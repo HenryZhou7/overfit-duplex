{
 "cells": [
  {
   "cell_type": "code",
   "execution_count": null,
   "id": "7573c4b9",
   "metadata": {},
   "outputs": [],
   "source": [
    "%load_ext autoreload\n",
    "%autoreload 2"
   ]
  },
  {
   "cell_type": "code",
   "execution_count": null,
   "id": "583916e9",
   "metadata": {},
   "outputs": [],
   "source": []
  },
  {
   "cell_type": "code",
   "execution_count": null,
   "id": "71d38c28",
   "metadata": {},
   "outputs": [],
   "source": [
    "from pathlib import Path"
   ]
  },
  {
   "cell_type": "code",
   "execution_count": null,
   "id": "2fba9fb5",
   "metadata": {},
   "outputs": [],
   "source": [
    "from torch.utils.data import DataLoader\n",
    "from overfit_trial.pair_dataset import DuplexPairDataset, collate_duplex_batch"
   ]
  },
  {
   "cell_type": "code",
   "execution_count": null,
   "id": "8648d630",
   "metadata": {},
   "outputs": [],
   "source": [
    "csv_file = Path(\"/home/henry/dev/overfit-duplex/asset/csv/single_sample_x16.csv\")"
   ]
  },
  {
   "cell_type": "code",
   "execution_count": null,
   "id": "16a3336b",
   "metadata": {},
   "outputs": [],
   "source": [
    "dataset = DuplexPairDataset(\n",
    "    csv_file,\n",
    "    window_size=1024,\n",
    "    data_dir=Path(\"/home/henry/dev/overfit-duplex/asset/single_pair_dataset\"),\n",
    "    num_quantizers=32,\n",
    "    random_window=False,\n",
    ")"
   ]
  },
  {
   "cell_type": "code",
   "execution_count": null,
   "id": "7bb979be",
   "metadata": {},
   "outputs": [],
   "source": [
    "dloader = DataLoader(dataset, batch_size=4, collate_fn=collate_duplex_batch)"
   ]
  },
  {
   "cell_type": "code",
   "execution_count": null,
   "id": "de40db58",
   "metadata": {},
   "outputs": [],
   "source": [
    "for batch in dloader:\n",
    "    break"
   ]
  }
 ],
 "metadata": {
  "kernelspec": {
   "display_name": ".venv",
   "language": "python",
   "name": "python3"
  },
  "language_info": {
   "codemirror_mode": {
    "name": "ipython",
    "version": 3
   },
   "file_extension": ".py",
   "mimetype": "text/x-python",
   "name": "python",
   "nbconvert_exporter": "python",
   "pygments_lexer": "ipython3",
   "version": "3.12.3"
  }
 },
 "nbformat": 4,
 "nbformat_minor": 5
}
