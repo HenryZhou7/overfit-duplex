{
 "cells": [
  {
   "cell_type": "code",
   "execution_count": null,
   "id": "a8b5f1c0",
   "metadata": {},
   "outputs": [],
   "source": [
    "%load_ext autoreload\n",
    "%autoreload 2"
   ]
  },
  {
   "cell_type": "code",
   "execution_count": null,
   "id": "1018b0e4",
   "metadata": {},
   "outputs": [],
   "source": [
    "import torch.nn as nn"
   ]
  },
  {
   "cell_type": "markdown",
   "id": "c957ae2e",
   "metadata": {},
   "source": [
    "# `torchtune` Exploration\n",
    "\n",
    "I would like to understand the usage of `torchtune`. \n",
    "To start things off, I would like to follow [sesame](https://github.com/SesameAILabs/csm/blob/main/models.py)'s architecture and work on overfitting a pair of conversation from [seamless interaction](https://github.com/facebookresearch/seamless_interaction)."
   ]
  },
  {
   "cell_type": "code",
   "execution_count": null,
   "id": "1a7b008d",
   "metadata": {},
   "outputs": [],
   "source": [
    "import torchtune\n",
    "\n",
    "from torchtune.models import llama3_2"
   ]
  },
  {
   "cell_type": "code",
   "execution_count": null,
   "id": "d741b950",
   "metadata": {},
   "outputs": [],
   "source": [
    "def llama3_2_1B() -> torchtune.modules.transformer.TransformerDecoder:\n",
    "    return llama3_2.llama3_2(\n",
    "        vocab_size=128_256,\n",
    "        num_layers=16,\n",
    "        num_heads=32,\n",
    "        num_kv_heads=8,\n",
    "        embed_dim=2048,\n",
    "        max_seq_len=2048,\n",
    "        intermediate_dim=8192,\n",
    "        attn_dropout=0.0,\n",
    "        norm_eps=1e-5,\n",
    "        rope_base=500_000,\n",
    "        scale_factor=32,\n",
    "    )\n",
    "\n",
    "\n",
    "def llama3_2_100M() -> torchtune.modules.transformer.TransformerDecoder:\n",
    "    return llama3_2.llama3_2(\n",
    "        vocab_size=128_256,\n",
    "        num_layers=4,\n",
    "        num_heads=8,\n",
    "        num_kv_heads=2,\n",
    "        embed_dim=1024,\n",
    "        max_seq_len=2048,\n",
    "        intermediate_dim=8192,\n",
    "        attn_dropout=0.0,\n",
    "        norm_eps=1e-5,\n",
    "        rope_base=500_000,\n",
    "        scale_factor=32,\n",
    "    )"
   ]
  },
  {
   "cell_type": "code",
   "execution_count": null,
   "id": "eb30152a",
   "metadata": {},
   "outputs": [],
   "source": [
    "model = llama3_2.llama3_2(\n",
    "    vocab_size=128_256,\n",
    "    num_layers=4,\n",
    "    num_heads=8,\n",
    "    num_kv_heads=2,\n",
    "    embed_dim=1024,\n",
    "    max_seq_len=2048,\n",
    "    intermediate_dim=8192,\n",
    "    attn_dropout=0.0,\n",
    "    norm_eps=1e-5,\n",
    "    rope_base=500_000,\n",
    "    scale_factor=32,\n",
    ")\n",
    "model.tok_embeddings = nn.Identity()\n",
    "model.output = nn.Identity()"
   ]
  },
  {
   "cell_type": "code",
   "execution_count": null,
   "id": "2b0f6b3e",
   "metadata": {},
   "outputs": [],
   "source": [
    "num_params = sum(p.numel() for p in model.parameters())\n",
    "print(f\"Total parameters: {num_params:,}\")"
   ]
  }
 ],
 "metadata": {
  "kernelspec": {
   "display_name": ".venv",
   "language": "python",
   "name": "python3"
  },
  "language_info": {
   "codemirror_mode": {
    "name": "ipython",
    "version": 3
   },
   "file_extension": ".py",
   "mimetype": "text/x-python",
   "name": "python",
   "nbconvert_exporter": "python",
   "pygments_lexer": "ipython3",
   "version": "3.12.3"
  }
 },
 "nbformat": 4,
 "nbformat_minor": 5
}
