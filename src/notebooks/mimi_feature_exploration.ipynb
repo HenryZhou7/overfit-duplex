{
 "cells": [
  {
   "cell_type": "code",
   "execution_count": null,
   "id": "61cd0826",
   "metadata": {},
   "outputs": [],
   "source": [
    "%load_ext autoreload\n",
    "%autoreload 2"
   ]
  },
  {
   "cell_type": "code",
   "execution_count": null,
   "id": "9641f360",
   "metadata": {},
   "outputs": [],
   "source": [
    "import project_root"
   ]
  },
  {
   "cell_type": "markdown",
   "id": "e812fda4",
   "metadata": {},
   "source": [
    "## Pre-requisites\n",
    "\n",
    "Need to download the single batch \n",
    "\n",
    "```\n",
    "# The following will download the data 50GB - 100GB\n",
    "# to the directory:\n",
    "# `~/datasets/seamless_interaction/improvised/dev/0000/`\n",
    "download_single_batch()\n",
    "```\n",
    "\n",
    "to the submodule `seamless-interaction` directory to make it work."
   ]
  },
  {
   "cell_type": "code",
   "execution_count": null,
   "id": "db66f959",
   "metadata": {},
   "outputs": [],
   "source": [
    "import torch\n",
    "import numpy as np\n",
    "from transformers import MimiModel, AutoFeatureExtractor\n",
    "\n",
    "from IPython.display import Audio, display\n"
   ]
  },
  {
   "cell_type": "code",
   "execution_count": null,
   "id": "9c9cef28",
   "metadata": {},
   "outputs": [],
   "source": [
    "#\n",
    "from seamless_interaction.fs import DatasetConfig, SeamlessInteractionFS\n",
    "from dataset_utils.duplex import get_data_sample"
   ]
  },
  {
   "cell_type": "code",
   "execution_count": null,
   "id": "bc625302",
   "metadata": {},
   "outputs": [],
   "source": [
    "config = DatasetConfig(label=\"improvised\", split=\"dev\", num_workers=8)\n",
    "fs = SeamlessInteractionFS(config=config)\n",
    "\n",
    "pair = ['V00_S0696_I00000375_P0844A', 'V00_S0696_I00000375_P0847']"
   ]
  },
  {
   "cell_type": "code",
   "execution_count": null,
   "id": "989fb646",
   "metadata": {},
   "outputs": [],
   "source": [
    "sample1 = get_data_sample(fs, pair[0])\n",
    "sample2 = get_data_sample(fs, pair[1])"
   ]
  },
  {
   "cell_type": "markdown",
   "id": "e0234d749d9",
   "metadata": {},
   "source": [
    "## 1. Model Initialization"
   ]
  },
  {
   "cell_type": "code",
   "execution_count": null,
   "id": "58ed68ac",
   "metadata": {},
   "outputs": [],
   "source": [
    "import warnings\n",
    "warnings.filterwarnings('ignore')\n",
    "\n",
    "device = torch.device(\"cuda\" if torch.cuda.is_available() else \"cpu\")\n",
    "model = MimiModel.from_pretrained(\"kyutai/mimi\", num_quantizers=8)\n",
    "feature_extractor = AutoFeatureExtractor.from_pretrained(\"kyutai/mimi\")\n",
    "\n",
    "if device.type == \"cuda\":\n",
    "    model.to(device)\n"
   ]
  },
  {
   "cell_type": "code",
   "execution_count": null,
   "id": "875fd576",
   "metadata": {},
   "outputs": [],
   "source": [
    "feature_extractor.sampling_rate"
   ]
  },
  {
   "cell_type": "markdown",
   "id": "95sah85nh1c",
   "metadata": {},
   "source": [
    "## 2. Encoding and Decoding"
   ]
  },
  {
   "cell_type": "code",
   "execution_count": null,
   "id": "c696297a",
   "metadata": {},
   "outputs": [],
   "source": [
    "audio_arr = sample1.get_single_channel_audio(\n",
    "    rate=feature_extractor.sampling_rate, mask_transcript=True\n",
    ")"
   ]
  },
  {
   "cell_type": "code",
   "execution_count": null,
   "id": "4ac28153",
   "metadata": {},
   "outputs": [],
   "source": [
    "inputs = feature_extractor(raw_audio=audio_arr, sampling_rate=feature_extractor.sampling_rate, return_tensors=\"pt\")\n",
    "inputs = inputs.to(model.device)"
   ]
  },
  {
   "cell_type": "code",
   "execution_count": null,
   "id": "35f4f14b",
   "metadata": {},
   "outputs": [],
   "source": [
    "encoder_outputs = model.encode(inputs[\"input_values\"])\n",
    "audio_values = model.decode(encoder_outputs.audio_codes)[0]"
   ]
  },
  {
   "cell_type": "code",
   "execution_count": null,
   "id": "83a08cad",
   "metadata": {},
   "outputs": [],
   "source": [
    "reconstructed_audio = audio_values.data.squeeze().cpu().numpy()"
   ]
  },
  {
   "cell_type": "code",
   "execution_count": null,
   "id": "080a303c",
   "metadata": {},
   "outputs": [],
   "source": [
    "print('Reconstructed audio:')\n",
    "display(Audio(reconstructed_audio, rate=feature_extractor.sampling_rate))\n",
    "print('Original audio:')\n",
    "display(Audio(audio_arr, rate=feature_extractor.sampling_rate))"
   ]
  },
  {
   "cell_type": "code",
   "execution_count": null,
   "id": "5531aae7",
   "metadata": {},
   "outputs": [],
   "source": [
    "np.linalg.norm(reconstructed_audio - audio_arr) / audio_arr.shape[0]"
   ]
  },
  {
   "cell_type": "markdown",
   "id": "z61a63mimwq",
   "metadata": {},
   "source": [
    "## 3. Extracting Latent Features from Codes"
   ]
  },
  {
   "cell_type": "code",
   "execution_count": null,
   "id": "e52a2ec7",
   "metadata": {},
   "outputs": [],
   "source": [
    "codes = encoder_outputs.audio_codes\n",
    "latent = model.quantizer.decode(codes.transpose(0, 1))"
   ]
  },
  {
   "cell_type": "code",
   "execution_count": null,
   "id": "f830f502",
   "metadata": {},
   "outputs": [],
   "source": [
    "# bs, n_quantizers, n_frames\n",
    "batched_codes = torch.concat([codes, codes])\n",
    "batched_latents = model.quantizer.decode(batched_codes.transpose(0, 1))"
   ]
  },
  {
   "cell_type": "code",
   "execution_count": null,
   "id": "66ae9047",
   "metadata": {},
   "outputs": [],
   "source": [
    "batched_latents.shape"
   ]
  },
  {
   "cell_type": "code",
   "execution_count": null,
   "id": "3a726749",
   "metadata": {},
   "outputs": [],
   "source": [
    "batched_codes.shape"
   ]
  }
 ],
 "metadata": {
  "kernelspec": {
   "display_name": ".venv",
   "language": "python",
   "name": "python3"
  },
  "language_info": {
   "codemirror_mode": {
    "name": "ipython",
    "version": 3
   },
   "file_extension": ".py",
   "mimetype": "text/x-python",
   "name": "python",
   "nbconvert_exporter": "python",
   "pygments_lexer": "ipython3",
   "version": "3.12.3"
  }
 },
 "nbformat": 4,
 "nbformat_minor": 5
}
