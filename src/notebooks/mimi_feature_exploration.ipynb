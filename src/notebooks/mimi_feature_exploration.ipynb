{
 "cells": [
  {
   "cell_type": "code",
   "execution_count": null,
   "id": "61cd0826",
   "metadata": {},
   "outputs": [],
   "source": [
    "%load_ext autoreload\n",
    "%autoreload 2"
   ]
  },
  {
   "cell_type": "code",
   "execution_count": null,
   "id": "9641f360",
   "metadata": {},
   "outputs": [],
   "source": []
  },
  {
   "cell_type": "markdown",
   "id": "e812fda4",
   "metadata": {},
   "source": [
    "## Pre-requisites\n",
    "\n",
    "Need to download the single batch \n",
    "\n",
    "```\n",
    "# The following will download the data 50GB - 100GB\n",
    "# to the directory:\n",
    "# `~/datasets/seamless_interaction/improvised/dev/0000/`\n",
    "download_single_batch()\n",
    "```\n",
    "\n",
    "to the submodule `seamless-interaction` directory to make it work."
   ]
  },
  {
   "cell_type": "code",
   "execution_count": null,
   "id": "db66f959",
   "metadata": {},
   "outputs": [],
   "source": [
    "import torch\n",
    "import numpy as np\n",
    "from pathlib import Path\n",
    "from transformers import MimiModel, AutoFeatureExtractor"
   ]
  },
  {
   "cell_type": "code",
   "execution_count": null,
   "id": "9c9cef28",
   "metadata": {},
   "outputs": [],
   "source": [
    "#\n",
    "from seamless_interaction.fs import DatasetConfig, SeamlessInteractionFS\n",
    "from dataset_utils.duplex import get_data_sample\n",
    "from mimi.feature_extraction import get_mimi_features"
   ]
  },
  {
   "cell_type": "code",
   "execution_count": null,
   "id": "2b010490",
   "metadata": {},
   "outputs": [],
   "source": [
    "NUM_QUANTIZERS = 8"
   ]
  },
  {
   "cell_type": "code",
   "execution_count": null,
   "id": "bc625302",
   "metadata": {},
   "outputs": [],
   "source": [
    "config = DatasetConfig(label=\"improvised\", split=\"dev\", num_workers=8)\n",
    "fs = SeamlessInteractionFS(config=config)\n",
    "\n",
    "pair = [\"V00_S0696_I00000375_P0844A\", \"V00_S0696_I00000375_P0847\"]"
   ]
  },
  {
   "cell_type": "code",
   "execution_count": null,
   "id": "989fb646",
   "metadata": {},
   "outputs": [],
   "source": [
    "sample1 = get_data_sample(fs, pair[0])\n",
    "sample2 = get_data_sample(fs, pair[1])"
   ]
  },
  {
   "cell_type": "markdown",
   "id": "e0234d749d9",
   "metadata": {},
   "source": [
    "## 1. Model Initialization"
   ]
  },
  {
   "cell_type": "code",
   "execution_count": null,
   "id": "58ed68ac",
   "metadata": {},
   "outputs": [],
   "source": [
    "%%capture\n",
    "\n",
    "device = torch.device(\"cuda\" if torch.cuda.is_available() else \"cpu\")\n",
    "model = MimiModel.from_pretrained(\"kyutai/mimi\", num_quantizers=8)\n",
    "feature_extractor = AutoFeatureExtractor.from_pretrained(\"kyutai/mimi\")\n",
    "\n",
    "if device.type == \"cuda\":\n",
    "    model.to(device)"
   ]
  },
  {
   "cell_type": "markdown",
   "id": "95sah85nh1c",
   "metadata": {},
   "source": [
    "## 2. Encoding and Decoding"
   ]
  },
  {
   "cell_type": "code",
   "execution_count": null,
   "id": "c696297a",
   "metadata": {},
   "outputs": [],
   "source": [
    "audio_arr = sample1.get_single_channel_audio(rate=feature_extractor.sampling_rate, mask_transcript=True)"
   ]
  },
  {
   "cell_type": "code",
   "execution_count": null,
   "id": "4ac28153",
   "metadata": {},
   "outputs": [],
   "source": [
    "inputs = feature_extractor(\n",
    "    raw_audio=audio_arr,\n",
    "    sampling_rate=feature_extractor.sampling_rate,\n",
    "    return_tensors=\"pt\",\n",
    ")\n",
    "inputs = inputs.to(model.device)"
   ]
  },
  {
   "cell_type": "code",
   "execution_count": null,
   "id": "35f4f14b",
   "metadata": {},
   "outputs": [],
   "source": [
    "encoder_outputs = model.encode(inputs[\"input_values\"])\n",
    "audio_values = model.decode(encoder_outputs.audio_codes)[0]"
   ]
  },
  {
   "cell_type": "code",
   "execution_count": null,
   "id": "83a08cad",
   "metadata": {},
   "outputs": [],
   "source": [
    "reconstructed_audio = audio_values.data.squeeze().cpu().numpy()"
   ]
  },
  {
   "cell_type": "code",
   "execution_count": null,
   "id": "080a303c",
   "metadata": {},
   "outputs": [],
   "source": [
    "# Listen to the original and reconstructed audio\n",
    "\n",
    "# print('Reconstructed audio:')\n",
    "# display(Audio(reconstructed_audio, rate=feature_extractor.sampling_rate))\n",
    "# print('Original audio:')\n",
    "# display(Audio(audio_arr, rate=feature_extractor.sampling_rate))\n",
    "\n",
    "# print the L2 norm of the difference between the original and reconstructed audio\n",
    "# print(np.linalg.norm(reconstructed_audio - audio_arr) / audio_arr.shape[0])"
   ]
  },
  {
   "cell_type": "markdown",
   "id": "z61a63mimwq",
   "metadata": {},
   "source": [
    "## 3. Extracting Latent Features from Codes"
   ]
  },
  {
   "cell_type": "code",
   "execution_count": null,
   "id": "e52a2ec7",
   "metadata": {},
   "outputs": [],
   "source": [
    "codes = encoder_outputs.audio_codes\n",
    "latent = model.quantizer.decode(codes.transpose(0, 1))"
   ]
  },
  {
   "cell_type": "code",
   "execution_count": null,
   "id": "f830f502",
   "metadata": {},
   "outputs": [],
   "source": [
    "# bs, n_quantizers, n_frames\n",
    "batched_codes = torch.concat([codes, codes])\n",
    "batched_latents = model.quantizer.decode(batched_codes.transpose(0, 1))"
   ]
  },
  {
   "cell_type": "code",
   "execution_count": null,
   "id": "92cf7214",
   "metadata": {},
   "outputs": [],
   "source": [
    "print(codes.shape)\n",
    "dense_features = model.quantizer.decode(codes)\n",
    "print(dense_features.shape)"
   ]
  },
  {
   "cell_type": "code",
   "execution_count": null,
   "id": "2a919f55",
   "metadata": {},
   "outputs": [],
   "source": [
    "def save_mimi_features(uid: str, target_dir: str | Path) -> None:\n",
    "    sample = get_data_sample(fs, uid)\n",
    "    sem_tokens, ac_tokens = get_mimi_features(\n",
    "        sample.get_single_channel_audio(rate=feature_extractor.sampling_rate, mask_transcript=True),\n",
    "        src_rate=feature_extractor.sampling_rate,\n",
    "        num_quantizers=NUM_QUANTIZERS,\n",
    "    )\n",
    "\n",
    "    data = {\n",
    "        \"ac_tokens\": ac_tokens,\n",
    "        \"sem_tokens\": sem_tokens,\n",
    "    }\n",
    "\n",
    "    target_file = Path(target_dir) / f\"{uid}.{NUM_QUANTIZERS}q.npz\"\n",
    "    np.savez(target_file, **data)\n",
    "    return None"
   ]
  },
  {
   "cell_type": "code",
   "execution_count": null,
   "id": "fac95860",
   "metadata": {},
   "outputs": [],
   "source": []
  },
  {
   "cell_type": "code",
   "execution_count": null,
   "id": "780e29bb",
   "metadata": {},
   "outputs": [],
   "source": []
  },
  {
   "cell_type": "code",
   "execution_count": null,
   "id": "697dc67b",
   "metadata": {},
   "outputs": [],
   "source": []
  },
  {
   "cell_type": "code",
   "execution_count": null,
   "id": "3a726749",
   "metadata": {},
   "outputs": [],
   "source": [
    "%%capture\n",
    "save_mimi_features(pair[0], \"/home/henry/dev/overfit-duplex/asset/single_pair_dataset\")\n",
    "save_mimi_features(pair[1], \"/home/henry/dev/overfit-duplex/asset/single_pair_dataset\")"
   ]
  }
 ],
 "metadata": {
  "kernelspec": {
   "display_name": ".venv",
   "language": "python",
   "name": "python3"
  },
  "language_info": {
   "codemirror_mode": {
    "name": "ipython",
    "version": 3
   },
   "file_extension": ".py",
   "mimetype": "text/x-python",
   "name": "python",
   "nbconvert_exporter": "python",
   "pygments_lexer": "ipython3",
   "version": "3.12.3"
  }
 },
 "nbformat": 4,
 "nbformat_minor": 5
}
