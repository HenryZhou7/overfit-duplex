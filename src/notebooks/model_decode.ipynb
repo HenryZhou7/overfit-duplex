{
 "cells": [
  {
   "cell_type": "code",
   "execution_count": null,
   "id": "b40efb47",
   "metadata": {},
   "outputs": [],
   "source": [
    "%load_ext autoreload\n",
    "%autoreload 2"
   ]
  },
  {
   "cell_type": "code",
   "execution_count": null,
   "id": "b3f60c2d",
   "metadata": {},
   "outputs": [],
   "source": []
  },
  {
   "cell_type": "code",
   "execution_count": null,
   "id": "b902b1a4",
   "metadata": {},
   "outputs": [],
   "source": [
    "import os\n",
    "import torch\n",
    "import numpy as np\n",
    "\n",
    "from pathlib import Path\n",
    "from transformers import MimiModel, AutoFeatureExtractor"
   ]
  },
  {
   "cell_type": "code",
   "execution_count": null,
   "id": "9acc6755",
   "metadata": {},
   "outputs": [],
   "source": [
    "#\n",
    "\n",
    "from overfit_trial.data_models import (\n",
    "    MimiChannelArchive,\n",
    ")"
   ]
  },
  {
   "cell_type": "code",
   "execution_count": null,
   "id": "f61098fe",
   "metadata": {},
   "outputs": [],
   "source": [
    "channel_id_pair = [\"V00_S0696_I00000375_P0844A\", \"V00_S0696_I00000375_P0847\"]\n",
    "num_quantizers = 32\n",
    "SAMPLE_RATE_HZ = 24000"
   ]
  },
  {
   "cell_type": "code",
   "execution_count": null,
   "id": "93be60cf",
   "metadata": {},
   "outputs": [],
   "source": [
    "%%capture\n",
    "\n",
    "device = torch.device(\"cuda\" if torch.cuda.is_available() else \"cpu\")\n",
    "model = MimiModel.from_pretrained(\"kyutai/mimi\", num_quantizers=num_quantizers)\n",
    "feature_extractor = AutoFeatureExtractor.from_pretrained(\"kyutai/mimi\")\n",
    "\n",
    "if device.type == \"cuda\":\n",
    "    model.to(device)"
   ]
  },
  {
   "cell_type": "code",
   "execution_count": null,
   "id": "0ab3a2cc",
   "metadata": {},
   "outputs": [],
   "source": [
    "repo_root = Path(os.getcwd()).parent\n",
    "\n",
    "channel1 = MimiChannelArchive(\n",
    "    channel_id=channel_id_pair[0],\n",
    "    npz_path=Path(repo_root / \"asset\" / \"single_pair_dataset\" / f\"{channel_id_pair[0]}.{num_quantizers}q.npz\"),\n",
    ")\n",
    "channel2 = MimiChannelArchive(\n",
    "    channel_id=channel_id_pair[1],\n",
    "    npz_path=Path(repo_root / \"asset\" / \"single_pair_dataset\" / f\"{channel_id_pair[1]}.{num_quantizers}q.npz\"),\n",
    ")"
   ]
  },
  {
   "cell_type": "code",
   "execution_count": null,
   "id": "4f583354",
   "metadata": {},
   "outputs": [],
   "source": [
    "user = channel1.load_codes()"
   ]
  },
  {
   "cell_type": "code",
   "execution_count": null,
   "id": "4298edc8",
   "metadata": {},
   "outputs": [],
   "source": []
  },
  {
   "cell_type": "code",
   "execution_count": null,
   "id": "219c6a4e",
   "metadata": {},
   "outputs": [],
   "source": [
    "user_codes = user.to_torch()"
   ]
  },
  {
   "cell_type": "code",
   "execution_count": null,
   "id": "f56ccbaf",
   "metadata": {},
   "outputs": [],
   "source": [
    "model_output = model.decode(user_codes.unsqueeze(0).to(device))\n",
    "audio_arr = model_output.audio_values.detach().cpu().squeeze().numpy()\n",
    "# Audio(audio_arr, rate=SAMPLE_RATE_HZ)"
   ]
  },
  {
   "cell_type": "code",
   "execution_count": null,
   "id": "de972244",
   "metadata": {},
   "outputs": [],
   "source": [
    "user_codes.shape"
   ]
  },
  {
   "cell_type": "code",
   "execution_count": null,
   "id": "7da6f700",
   "metadata": {},
   "outputs": [],
   "source": [
    "sil_codes = model.encode(torch.from_numpy(np.zeros_like(audio_arr)).unsqueeze(0).unsqueeze(0).to(device))"
   ]
  },
  {
   "cell_type": "code",
   "execution_count": null,
   "id": "ad801eb7",
   "metadata": {},
   "outputs": [],
   "source": [
    "sil_codes.audio_codes.shape"
   ]
  },
  {
   "cell_type": "code",
   "execution_count": null,
   "id": "b1cb0244",
   "metadata": {},
   "outputs": [],
   "source": [
    "sil_codes.audio_codes[:, :, 0:10]"
   ]
  },
  {
   "cell_type": "code",
   "execution_count": null,
   "id": "e258948d",
   "metadata": {},
   "outputs": [],
   "source": []
  }
 ],
 "metadata": {
  "kernelspec": {
   "display_name": ".venv",
   "language": "python",
   "name": "python3"
  },
  "language_info": {
   "codemirror_mode": {
    "name": "ipython",
    "version": 3
   },
   "file_extension": ".py",
   "mimetype": "text/x-python",
   "name": "python",
   "nbconvert_exporter": "python",
   "pygments_lexer": "ipython3",
   "version": "3.12.3"
  }
 },
 "nbformat": 4,
 "nbformat_minor": 5
}
